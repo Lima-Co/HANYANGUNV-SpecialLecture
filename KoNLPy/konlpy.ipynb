{
 "cells": [
  {
   "cell_type": "code",
   "execution_count": 1,
   "metadata": {},
   "outputs": [],
   "source": [
    "from konlpy.tag import Kkma\n",
    "# 꼬꼬마 형태소분석기 사용\n",
    "kkma = Kkma()"
   ]
  },
  {
   "cell_type": "code",
   "execution_count": 2,
   "metadata": {},
   "outputs": [
    {
     "name": "stdout",
     "output_type": "stream",
     "text": [
      "['공부', '를', '하', '면', '하', 'ㄹ수록', '모르', '는', '것', '이', '많', '다는', '것', '을', '알', '게', '되', 'ㅂ니다', '.']\n"
     ]
    }
   ],
   "source": [
    "# 의미 있는 단어로 분리\n",
    "print(kkma.morphs(u'공부를 하면할수록 모르는게 많다는 것을 알게 됩니다.'))"
   ]
  },
  {
   "cell_type": "code",
   "execution_count": 3,
   "metadata": {},
   "outputs": [
    {
     "name": "stdout",
     "output_type": "stream",
     "text": [
      "['공부']\n"
     ]
    }
   ],
   "source": [
    "# 명사만 추출\n",
    "print(kkma.nouns(u'공부를 하면할수록 모르는게 많다는 것을 알게 됩니다.'))"
   ]
  },
  {
   "cell_type": "code",
   "execution_count": 4,
   "metadata": {},
   "outputs": [
    {
     "name": "stdout",
     "output_type": "stream",
     "text": [
      "[('공부', 'NNG'), ('를', 'JKO'), ('하', 'VV'), ('면', 'ECE'), ('하', 'VV'), ('ㄹ수록', 'ECD'), ('모르', 'VV'), ('는', 'ETD'), ('것', 'NNB'), ('이', 'JKS'), ('많', 'VA'), ('다는', 'ETD'), ('것', 'NNB'), ('을', 'JKO'), ('알', 'VV'), ('게', 'ECD'), ('되', 'VV'), ('ㅂ니다', 'EFN'), ('.', 'SF')]\n"
     ]
    }
   ],
   "source": [
    "# 품사 태깅\n",
    "print(kkma.pos(u'공부를 하면할수록 모르는게 많다는 것을 알게 됩니다.'))"
   ]
  },
  {
   "cell_type": "code",
   "execution_count": 8,
   "metadata": {},
   "outputs": [],
   "source": [
    "# [konlpy 과제 부분입니다]\n",
    "from konlpy.corpus import kolaw\n",
    "from konlpy.tag import Hannanum\n",
    "\n",
    "m = open('Full.txt','w',encoding=('UTF-8'))\n",
    "p = open('konlpy-pos.txt','w',encoding=('UTF-8'))\n",
    "n = open('Full_nouns.txt','w',encoding=('UTF-8'))\n",
    "\n",
    "h = Hannanum()\n",
    "doc = kolaw.open('constitution.txt').read()\n",
    "\n",
    "# [1.morphs()] 의미 있는 단어로 형태소 분리\n",
    "morphs=h.morphs(doc)\n",
    "for x in morphs:\n",
    "    m.write(x)\n",
    "    m.write('\\n')\n",
    "    \n",
    "# [2.pos():]품사를 표시\n",
    "pos=h.pos(doc)\n",
    "for y in pos:\n",
    "    p.write(y[0])\n",
    "    p.write(' ')\n",
    "    p.write(y[1])\n",
    "    p.write('\\n')\n",
    "    \n",
    "# [3.nouns()]명사만 추출하기\n",
    "nouns = h.nouns(doc)\n",
    "for z in nouns:\n",
    "    n.write(z)\n",
    "    n.write('\\n')\n"
   ]
  },
  {
   "cell_type": "code",
   "execution_count": null,
   "metadata": {},
   "outputs": [],
   "source": [
    "# (선택) 출현 횟수가 높은 단어 출력하기\n",
    "from collections import Counter\n",
    "from konlpy.corpus import kolaw\n",
    "from konlpy.tag import Hannanum\n",
    "doc = kolaw.open('constitution.txt').read()\n",
    "pos = Hannanum().pos(doc)\n",
    "cnt = Counter(pos)\n",
    "print(cnt.most_common(5))"
   ]
  },
  {
   "cell_type": "code",
   "execution_count": null,
   "metadata": {
    "scrolled": false
   },
   "outputs": [],
   "source": [
    "# (선택) 단어를 워드클라우드로 그리기\n",
    "from collections import Counter\n",
    "from konlpy.corpus import kolaw\n",
    "from konlpy.tag import Hannanum\n",
    "import webbrowser\n",
    "import random\n",
    "import pytagcloud # requires Korean font support\n",
    "\n",
    "# 색갈을 랜덤으로 생성\n",
    "r = lambda: random.randint(0,255)\n",
    "color = lambda: (r(), r(), r())\n",
    "\n",
    "# 형태소분석을 통해 명사만 추출\n",
    "def get_tags(text, ntags=50, multiplier=3):\n",
    "    h = Hannanum()\n",
    "    nouns = h.nouns(text)\n",
    "    count = Counter(nouns)\n",
    "    # 워드클라우드에 출현횟수가 많은 단어일수록 사이즈를 크게 설정한다.\n",
    "    return [{ 'color': color(), 'tag': n, 'size': c*multiplier }\\\n",
    "                for n, c in count.most_common(ntags)]\n",
    "\n",
    "# 워드클라우드 생성\n",
    "def draw_cloud(tags, filename, fontname='Noto Sans CJK', size=(1280, 720)):\n",
    "    pytagcloud.create_tag_image(tags, filename, fontname=fontname, size=size)\n",
    "    webbrowser.open(filename)\n",
    "\n",
    "doc = kolaw.open('constitution.txt').read()\n",
    "tags = get_tags(doc)\n",
    "print(tags)\n",
    "draw_cloud(tags, 'wordcloud.png')\n"
   ]
  }
 ],
 "metadata": {
  "kernelspec": {
   "display_name": "Python 3",
   "language": "python",
   "name": "python3"
  },
  "language_info": {
   "codemirror_mode": {
    "name": "ipython",
    "version": 3
   },
   "file_extension": ".py",
   "mimetype": "text/x-python",
   "name": "python",
   "nbconvert_exporter": "python",
   "pygments_lexer": "ipython3",
   "version": "3.5.2"
  }
 },
 "nbformat": 4,
 "nbformat_minor": 2
}
