{
 "cells": [
  {
   "cell_type": "code",
   "execution_count": 7,
   "metadata": {},
   "outputs": [],
   "source": [
    "from gensim.models import word2vec\n",
    "# 자연어처리를 통해 명사만 추출한 파일을 사용하여 트레이닝 한다\n",
    "sents = word2vec.Text8Corpus(\"Full_nouns2.txt\")\n",
    "model = word2vec.Word2Vec(sents,size=32,window=5,min_count=10,\n",
    "                          sg=1,hs=1,iter=500,workers=4)"
   ]
  },
  {
   "cell_type": "code",
   "execution_count": 12,
   "metadata": {},
   "outputs": [
    {
     "name": "stdout",
     "output_type": "stream",
     "text": [
      "Word2Vec(vocab=484, size=32, alpha=0.025)\n"
     ]
    }
   ],
   "source": [
    "# 트레이닝한 모델을 출력하기\n",
    "print (model)"
   ]
  },
  {
   "cell_type": "code",
   "execution_count": 10,
   "metadata": {},
   "outputs": [
    {
     "name": "stdout",
     "output_type": "stream",
     "text": [
      "Saved Model\n"
     ]
    }
   ],
   "source": [
    "# 트레이닝한 모델을 저장하기\n",
    "model.save(u\"fullnoun2.model\")\n",
    "print (\"Saved Model\")"
   ]
  },
  {
   "cell_type": "code",
   "execution_count": 14,
   "metadata": {},
   "outputs": [
    {
     "name": "stdout",
     "output_type": "stream",
     "text": [
      "Word2Vec(vocab=484, size=32, alpha=0.025)\n",
      "Model Loaded!\n"
     ]
    }
   ],
   "source": [
    "# 트레이닝한 모델을 불러오기\n",
    "model =word2vec.Word2Vec.load('fullnoun2.model')\n",
    "print (model)\n",
    "print (\"Model Loaded!\")"
   ]
  },
  {
   "cell_type": "code",
   "execution_count": 15,
   "metadata": {},
   "outputs": [
    {
     "name": "stdout",
     "output_type": "stream",
     "text": [
      "0.31270146\n"
     ]
    },
    {
     "name": "stderr",
     "output_type": "stream",
     "text": [
      "J:\\Python27\\lib\\site-packages\\gensim\\matutils.py:737: FutureWarning: Conversion of the second argument of issubdtype from `int` to `np.signedinteger` is deprecated. In future, it will be treated as `np.int32 == np.dtype(int).type`.\n",
      "  if np.issubdtype(vec.dtype, np.int):\n"
     ]
    }
   ],
   "source": [
    "# 【두개 키워드의 유사도 계산하기】\n",
    "try:\n",
    "    y1 = model.wv.similarity(\"Emma\", \"Taylor\")\n",
    "except KeyError:\n",
    "    y1 = 0\n",
    "print(y1)"
   ]
  },
  {
   "cell_type": "code",
   "execution_count": 18,
   "metadata": {},
   "outputs": [
    {
     "name": "stdout",
     "output_type": "stream",
     "text": [
      "(u'Mr.', 0.7077715396881104)\n",
      "(u'Woodhouse', 0.7009375095367432)\n",
      "(u'thing', 0.7000381946563721)\n",
      "(u'Hartfield', 0.6620622873306274)\n",
      "(u'Harriet', 0.6565461158752441)\n"
     ]
    },
    {
     "name": "stderr",
     "output_type": "stream",
     "text": [
      "J:\\Python27\\lib\\site-packages\\ipykernel_launcher.py:2: DeprecationWarning: Call to deprecated `most_similar` (Method will be removed in 4.0.0, use self.wv.most_similar() instead).\n",
      "  \n"
     ]
    }
   ],
   "source": [
    "# 【지정 키워드와 유사도가 제일 높은 5개 단어】\n",
    "y2 = model.most_similar(\"Emma\", topn=5)\n",
    "for item in y2:\n",
    "    print(item)"
   ]
  },
  {
   "cell_type": "code",
   "execution_count": 19,
   "metadata": {},
   "outputs": [
    {
     "name": "stdout",
     "output_type": "stream",
     "text": [
      "(u'Woodhouse', 0.676986813545227)\n",
      "(u'father', 0.6273468732833862)\n",
      "(u'Weston', 0.595104992389679)\n",
      "(u'friend', 0.571246862411499)\n",
      "(u'body', 0.5472894906997681)\n"
     ]
    },
    {
     "name": "stderr",
     "output_type": "stream",
     "text": [
      "J:\\Python27\\lib\\site-packages\\ipykernel_launcher.py:2: DeprecationWarning: Call to deprecated `most_similar` (Method will be removed in 4.0.0, use self.wv.most_similar() instead).\n",
      "  \n"
     ]
    }
   ],
   "source": [
    "# 【두개 키워드와 유사도가 제일 높은 5개 단어】\n",
    "y3 = model.most_similar(['Emma', 'Taylor'], topn=5)\n",
    "for item in y3:\n",
    "    print(item)"
   ]
  },
  {
   "cell_type": "code",
   "execution_count": 4,
   "metadata": {},
   "outputs": [
    {
     "name": "stdout",
     "output_type": "stream",
     "text": [
      "Model:\n",
      "Word2Vec(vocab=114, size=16, alpha=0.025)\n",
      "Saved Model\n"
     ]
    }
   ],
   "source": [
    "#[선택:한국어 model 트레이닝하기]\n",
    "from gensim.models import word2vec\n",
    "import multiprocessing\n",
    "\n",
    "sentences = word2vec.Text8Corpus(\"Full_nouns.txt\")\n",
    "model = word2vec.Word2Vec(sentences,size=16, window=5,\n",
    "                          min_count=5,sg=1, hs=1, iter=100,\n",
    "                          workers=multiprocessing.cpu_count())\n",
    "print (model)\n",
    "model.save(u\"fullnoun.model\")\n",
    "print (\"Saved Model\")"
   ]
  },
  {
   "cell_type": "code",
   "execution_count": 6,
   "metadata": {},
   "outputs": [
    {
     "name": "stdout",
     "output_type": "stream",
     "text": [
      "Word2Vec(vocab=114, size=16, alpha=0.025)\n",
      "Model Loaded!\n",
      "\n",
      "\n",
      "[평등]와[국민]의 유사도는:\n",
      "0.49945813\n",
      "\n",
      "[국민]와 유사도가 높은 단어 5개:\n",
      "제한\n",
      "0.888425588608\n",
      "권리\n",
      "0.866635084152\n",
      "보호\n",
      "0.85068655014\n",
      "침해\n",
      "0.844371497631\n",
      "인정\n",
      "0.838775217533\n",
      "\n",
      "[대한민국]&[헌법]와 유사도가 높은 단어 5개:\n",
      "①\n",
      "0.694512248039\n",
      "헌법시행\n",
      "0.670857787132\n",
      "조약\n",
      "0.634807288647\n",
      "개시\n",
      "0.606794953346\n",
      "최초\n",
      "0.584562420845\n"
     ]
    },
    {
     "name": "stderr",
     "output_type": "stream",
     "text": [
      "J:\\Python27\\lib\\site-packages\\ipykernel_launcher.py:19: DeprecationWarning: Call to deprecated `most_similar` (Method will be removed in 4.0.0, use self.wv.most_similar() instead).\n",
      "J:\\Python27\\lib\\site-packages\\ipykernel_launcher.py:28: DeprecationWarning: Call to deprecated `most_similar` (Method will be removed in 4.0.0, use self.wv.most_similar() instead).\n"
     ]
    }
   ],
   "source": [
    "#[선택:한국어 model 유사도 구하기]\n",
    "\n",
    "# Load trained model\n",
    "model =word2vec.Word2Vec.load('fullnoun.model')\n",
    "print (model)\n",
    "print (\"Model Loaded!\\n\")\n",
    "\n",
    "\n",
    "# 【두개 키워드의 유사도 계산하기】\n",
    "try:\n",
    "    y1 = model.wv.similarity(u\"국민\", u\"대한민국\")\n",
    "except KeyError:\n",
    "    y1 = 0\n",
    "print(u\"\\n[국민]와[대한민국]의 유사도는:\")\n",
    "print(y1)\n",
    "\n",
    "\n",
    "# 【키워드와 유사도가 제일 높은 5개 단어】\n",
    "y2 = model.most_similar(u\"국민\", topn=5)\n",
    "print(u\"\\n[국민]와 유사도가 높은 단어 5개:\")\n",
    "\n",
    "for item in y2:\n",
    "    print(item[0])\n",
    "    print(item[1])\n",
    "\n",
    "\n",
    "# 【두개 키워드와 유사도가 제일 높은 5개 단어】\n",
    "y3 = model.most_similar([u'대한민국', u'헌법'], topn=5)\n",
    "print(u\"\\n[대한민국]&[헌법]와 유사도가 높은 단어 5개:\")\n",
    "for item in y3:\n",
    "    print(item[0])\n",
    "    print(item[1])"
   ]
  },
  {
   "cell_type": "code",
   "execution_count": null,
   "metadata": {},
   "outputs": [],
   "source": []
  }
 ],
 "metadata": {
  "kernelspec": {
   "display_name": "Python 2",
   "language": "python",
   "name": "python2"
  },
  "language_info": {
   "codemirror_mode": {
    "name": "ipython",
    "version": 2
   },
   "file_extension": ".py",
   "mimetype": "text/x-python",
   "name": "python",
   "nbconvert_exporter": "python",
   "pygments_lexer": "ipython2",
   "version": "2.7.15"
  }
 },
 "nbformat": 4,
 "nbformat_minor": 2
}
